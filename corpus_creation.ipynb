{
 "cells": [
  {
   "cell_type": "code",
   "execution_count": 1,
   "metadata": {},
   "outputs": [],
   "source": [
    "import json"
   ]
  },
  {
   "cell_type": "code",
   "execution_count": null,
   "metadata": {},
   "outputs": [],
   "source": [
    "data = {'data': []} \n",
    "\n",
    "\n",
    "with open(\"arxiv-abstracts.json\", \"r\") as f:\n",
    "    for line in f:\n",
    "        datapoint = json.loads(line)\n",
    "        clean_title_string_list = [dp.strip() for dp in datapoint[\"title\"].split(\"\\n\")]\n",
    "        clean_title_string = (\" \".join(clean_title_string_list)).strip().lower()\n",
    "              \n",
    "        clean_abstract_string_list = [dp.strip() for dp in datapoint[\"abstract\"].split(\"\\n\")]\n",
    "        clean_abstract_string = (\" \".join(clean_abstract_string_list)).strip().lower()  \n",
    "\n",
    "        data['data'].append({\"title\":clean_title_string, \"abstract\":clean_abstract_string})\n"
   ]
  },
  {
   "cell_type": "code",
   "execution_count": 2,
   "metadata": {},
   "outputs": [],
   "source": [
    "with open(\"corpus.txt\", \"w+\") as o:\n",
    "    for pt in data['data']:\n",
    "        o.write(pt['title']+'\\n')\n",
    "        o.write(pt['abstract']+'\\n')"
   ]
  }
 ],
 "metadata": {
  "kernelspec": {
   "display_name": "csc413",
   "language": "python",
   "name": "python3"
  },
  "language_info": {
   "codemirror_mode": {
    "name": "ipython",
    "version": 3
   },
   "file_extension": ".py",
   "mimetype": "text/x-python",
   "name": "python",
   "nbconvert_exporter": "python",
   "pygments_lexer": "ipython3",
   "version": "3.11.2"
  },
  "orig_nbformat": 4
 },
 "nbformat": 4,
 "nbformat_minor": 2
}
