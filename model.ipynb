{
  "nbformat": 4,
  "nbformat_minor": 0,
  "metadata": {
    "colab": {
      "provenance": [],
      "machine_shape": "hm"
    },
    "kernelspec": {
      "name": "python3",
      "display_name": "Python 3"
    },
    "language_info": {
      "name": "python"
    },
    "accelerator": "GPU",
    "gpuClass": "standard",
    "widgets": {
      "application/vnd.jupyter.widget-state+json": {
        "0cee88865d2543c5aa9cbe81b5e0a46c": {
          "model_module": "@jupyter-widgets/controls",
          "model_name": "HBoxModel",
          "model_module_version": "1.5.0",
          "state": {
            "_dom_classes": [],
            "_model_module": "@jupyter-widgets/controls",
            "_model_module_version": "1.5.0",
            "_model_name": "HBoxModel",
            "_view_count": null,
            "_view_module": "@jupyter-widgets/controls",
            "_view_module_version": "1.5.0",
            "_view_name": "HBoxView",
            "box_style": "",
            "children": [
              "IPY_MODEL_ec93da8840ac446385f7555b4dad49ff",
              "IPY_MODEL_cdf45a3fab184fcda70055aef19b153b",
              "IPY_MODEL_9e2e7b3e8adf4e288e5dfbb6ee8e3565"
            ],
            "layout": "IPY_MODEL_2b65e23d24234d81b36e17810ffb80b6"
          }
        },
        "ec93da8840ac446385f7555b4dad49ff": {
          "model_module": "@jupyter-widgets/controls",
          "model_name": "HTMLModel",
          "model_module_version": "1.5.0",
          "state": {
            "_dom_classes": [],
            "_model_module": "@jupyter-widgets/controls",
            "_model_module_version": "1.5.0",
            "_model_name": "HTMLModel",
            "_view_count": null,
            "_view_module": "@jupyter-widgets/controls",
            "_view_module_version": "1.5.0",
            "_view_name": "HTMLView",
            "description": "",
            "description_tooltip": null,
            "layout": "IPY_MODEL_f8990d9eb1574c649e2131a0b1423438",
            "placeholder": "​",
            "style": "IPY_MODEL_210a7054f3a641b6b2dbcebef452ec7e",
            "value": "Downloading builder script: 100%"
          }
        },
        "cdf45a3fab184fcda70055aef19b153b": {
          "model_module": "@jupyter-widgets/controls",
          "model_name": "FloatProgressModel",
          "model_module_version": "1.5.0",
          "state": {
            "_dom_classes": [],
            "_model_module": "@jupyter-widgets/controls",
            "_model_module_version": "1.5.0",
            "_model_name": "FloatProgressModel",
            "_view_count": null,
            "_view_module": "@jupyter-widgets/controls",
            "_view_module_version": "1.5.0",
            "_view_name": "ProgressView",
            "bar_style": "success",
            "description": "",
            "description_tooltip": null,
            "layout": "IPY_MODEL_c63bb070fc9e4f40b273e0123e53fd2e",
            "max": 6270,
            "min": 0,
            "orientation": "horizontal",
            "style": "IPY_MODEL_2d095ac31de84e17aff0c4bf5d299bea",
            "value": 6270
          }
        },
        "9e2e7b3e8adf4e288e5dfbb6ee8e3565": {
          "model_module": "@jupyter-widgets/controls",
          "model_name": "HTMLModel",
          "model_module_version": "1.5.0",
          "state": {
            "_dom_classes": [],
            "_model_module": "@jupyter-widgets/controls",
            "_model_module_version": "1.5.0",
            "_model_name": "HTMLModel",
            "_view_count": null,
            "_view_module": "@jupyter-widgets/controls",
            "_view_module_version": "1.5.0",
            "_view_name": "HTMLView",
            "description": "",
            "description_tooltip": null,
            "layout": "IPY_MODEL_804506d2673c4054938d5375fdc55a80",
            "placeholder": "​",
            "style": "IPY_MODEL_8fa5c05f74be4bad92cf20f2c24d412d",
            "value": " 6.27k/6.27k [00:00&lt;00:00, 276kB/s]"
          }
        },
        "2b65e23d24234d81b36e17810ffb80b6": {
          "model_module": "@jupyter-widgets/base",
          "model_name": "LayoutModel",
          "model_module_version": "1.2.0",
          "state": {
            "_model_module": "@jupyter-widgets/base",
            "_model_module_version": "1.2.0",
            "_model_name": "LayoutModel",
            "_view_count": null,
            "_view_module": "@jupyter-widgets/base",
            "_view_module_version": "1.2.0",
            "_view_name": "LayoutView",
            "align_content": null,
            "align_items": null,
            "align_self": null,
            "border": null,
            "bottom": null,
            "display": null,
            "flex": null,
            "flex_flow": null,
            "grid_area": null,
            "grid_auto_columns": null,
            "grid_auto_flow": null,
            "grid_auto_rows": null,
            "grid_column": null,
            "grid_gap": null,
            "grid_row": null,
            "grid_template_areas": null,
            "grid_template_columns": null,
            "grid_template_rows": null,
            "height": null,
            "justify_content": null,
            "justify_items": null,
            "left": null,
            "margin": null,
            "max_height": null,
            "max_width": null,
            "min_height": null,
            "min_width": null,
            "object_fit": null,
            "object_position": null,
            "order": null,
            "overflow": null,
            "overflow_x": null,
            "overflow_y": null,
            "padding": null,
            "right": null,
            "top": null,
            "visibility": null,
            "width": null
          }
        },
        "f8990d9eb1574c649e2131a0b1423438": {
          "model_module": "@jupyter-widgets/base",
          "model_name": "LayoutModel",
          "model_module_version": "1.2.0",
          "state": {
            "_model_module": "@jupyter-widgets/base",
            "_model_module_version": "1.2.0",
            "_model_name": "LayoutModel",
            "_view_count": null,
            "_view_module": "@jupyter-widgets/base",
            "_view_module_version": "1.2.0",
            "_view_name": "LayoutView",
            "align_content": null,
            "align_items": null,
            "align_self": null,
            "border": null,
            "bottom": null,
            "display": null,
            "flex": null,
            "flex_flow": null,
            "grid_area": null,
            "grid_auto_columns": null,
            "grid_auto_flow": null,
            "grid_auto_rows": null,
            "grid_column": null,
            "grid_gap": null,
            "grid_row": null,
            "grid_template_areas": null,
            "grid_template_columns": null,
            "grid_template_rows": null,
            "height": null,
            "justify_content": null,
            "justify_items": null,
            "left": null,
            "margin": null,
            "max_height": null,
            "max_width": null,
            "min_height": null,
            "min_width": null,
            "object_fit": null,
            "object_position": null,
            "order": null,
            "overflow": null,
            "overflow_x": null,
            "overflow_y": null,
            "padding": null,
            "right": null,
            "top": null,
            "visibility": null,
            "width": null
          }
        },
        "210a7054f3a641b6b2dbcebef452ec7e": {
          "model_module": "@jupyter-widgets/controls",
          "model_name": "DescriptionStyleModel",
          "model_module_version": "1.5.0",
          "state": {
            "_model_module": "@jupyter-widgets/controls",
            "_model_module_version": "1.5.0",
            "_model_name": "DescriptionStyleModel",
            "_view_count": null,
            "_view_module": "@jupyter-widgets/base",
            "_view_module_version": "1.2.0",
            "_view_name": "StyleView",
            "description_width": ""
          }
        },
        "c63bb070fc9e4f40b273e0123e53fd2e": {
          "model_module": "@jupyter-widgets/base",
          "model_name": "LayoutModel",
          "model_module_version": "1.2.0",
          "state": {
            "_model_module": "@jupyter-widgets/base",
            "_model_module_version": "1.2.0",
            "_model_name": "LayoutModel",
            "_view_count": null,
            "_view_module": "@jupyter-widgets/base",
            "_view_module_version": "1.2.0",
            "_view_name": "LayoutView",
            "align_content": null,
            "align_items": null,
            "align_self": null,
            "border": null,
            "bottom": null,
            "display": null,
            "flex": null,
            "flex_flow": null,
            "grid_area": null,
            "grid_auto_columns": null,
            "grid_auto_flow": null,
            "grid_auto_rows": null,
            "grid_column": null,
            "grid_gap": null,
            "grid_row": null,
            "grid_template_areas": null,
            "grid_template_columns": null,
            "grid_template_rows": null,
            "height": null,
            "justify_content": null,
            "justify_items": null,
            "left": null,
            "margin": null,
            "max_height": null,
            "max_width": null,
            "min_height": null,
            "min_width": null,
            "object_fit": null,
            "object_position": null,
            "order": null,
            "overflow": null,
            "overflow_x": null,
            "overflow_y": null,
            "padding": null,
            "right": null,
            "top": null,
            "visibility": null,
            "width": null
          }
        },
        "2d095ac31de84e17aff0c4bf5d299bea": {
          "model_module": "@jupyter-widgets/controls",
          "model_name": "ProgressStyleModel",
          "model_module_version": "1.5.0",
          "state": {
            "_model_module": "@jupyter-widgets/controls",
            "_model_module_version": "1.5.0",
            "_model_name": "ProgressStyleModel",
            "_view_count": null,
            "_view_module": "@jupyter-widgets/base",
            "_view_module_version": "1.2.0",
            "_view_name": "StyleView",
            "bar_color": null,
            "description_width": ""
          }
        },
        "804506d2673c4054938d5375fdc55a80": {
          "model_module": "@jupyter-widgets/base",
          "model_name": "LayoutModel",
          "model_module_version": "1.2.0",
          "state": {
            "_model_module": "@jupyter-widgets/base",
            "_model_module_version": "1.2.0",
            "_model_name": "LayoutModel",
            "_view_count": null,
            "_view_module": "@jupyter-widgets/base",
            "_view_module_version": "1.2.0",
            "_view_name": "LayoutView",
            "align_content": null,
            "align_items": null,
            "align_self": null,
            "border": null,
            "bottom": null,
            "display": null,
            "flex": null,
            "flex_flow": null,
            "grid_area": null,
            "grid_auto_columns": null,
            "grid_auto_flow": null,
            "grid_auto_rows": null,
            "grid_column": null,
            "grid_gap": null,
            "grid_row": null,
            "grid_template_areas": null,
            "grid_template_columns": null,
            "grid_template_rows": null,
            "height": null,
            "justify_content": null,
            "justify_items": null,
            "left": null,
            "margin": null,
            "max_height": null,
            "max_width": null,
            "min_height": null,
            "min_width": null,
            "object_fit": null,
            "object_position": null,
            "order": null,
            "overflow": null,
            "overflow_x": null,
            "overflow_y": null,
            "padding": null,
            "right": null,
            "top": null,
            "visibility": null,
            "width": null
          }
        },
        "8fa5c05f74be4bad92cf20f2c24d412d": {
          "model_module": "@jupyter-widgets/controls",
          "model_name": "DescriptionStyleModel",
          "model_module_version": "1.5.0",
          "state": {
            "_model_module": "@jupyter-widgets/controls",
            "_model_module_version": "1.5.0",
            "_model_name": "DescriptionStyleModel",
            "_view_count": null,
            "_view_module": "@jupyter-widgets/base",
            "_view_module_version": "1.2.0",
            "_view_name": "StyleView",
            "description_width": ""
          }
        }
      }
    }
  },
  "cells": [
    {
      "cell_type": "markdown",
      "source": [
        "# Imports"
      ],
      "metadata": {
        "id": "h3DlKbpvqNZQ"
      }
    },
    {
      "cell_type": "code",
      "source": [
        "# We will use to this to evaluate the ROUGE score of the model\n",
        "!pip install evaluate &> /dev/null\n",
        "!pip install rouge-score &> /dev/null\n",
        "!pip install youtokentome &> /dev/null"
      ],
      "metadata": {
        "id": "Gg63zjvFX0HQ"
      },
      "execution_count": 1,
      "outputs": []
    },
    {
      "cell_type": "code",
      "execution_count": 2,
      "metadata": {
        "id": "bX0mYA1WnDQS",
        "colab": {
          "base_uri": "https://localhost:8080/",
          "height": 67,
          "referenced_widgets": [
            "0cee88865d2543c5aa9cbe81b5e0a46c",
            "ec93da8840ac446385f7555b4dad49ff",
            "cdf45a3fab184fcda70055aef19b153b",
            "9e2e7b3e8adf4e288e5dfbb6ee8e3565",
            "2b65e23d24234d81b36e17810ffb80b6",
            "f8990d9eb1574c649e2131a0b1423438",
            "210a7054f3a641b6b2dbcebef452ec7e",
            "c63bb070fc9e4f40b273e0123e53fd2e",
            "2d095ac31de84e17aff0c4bf5d299bea",
            "804506d2673c4054938d5375fdc55a80",
            "8fa5c05f74be4bad92cf20f2c24d412d"
          ]
        },
        "outputId": "7ed81209-5d22-4aa4-9472-cc3eb32c792b"
      },
      "outputs": [
        {
          "output_type": "display_data",
          "data": {
            "text/plain": [
              "Downloading builder script:   0%|          | 0.00/6.27k [00:00<?, ?B/s]"
            ],
            "application/vnd.jupyter.widget-view+json": {
              "version_major": 2,
              "version_minor": 0,
              "model_id": "0cee88865d2543c5aa9cbe81b5e0a46c"
            }
          },
          "metadata": {}
        },
        {
          "output_type": "execute_result",
          "data": {
            "text/plain": [
              "device(type='cuda')"
            ]
          },
          "metadata": {},
          "execution_count": 2
        }
      ],
      "source": [
        "import math\n",
        "import pickle\n",
        "import re\n",
        "import numpy as np\n",
        "import torch\n",
        "import torch.nn as nn\n",
        "import torch.nn.functional as F\n",
        "\n",
        "import youtokentome as yttm\n",
        "\n",
        "from torch.utils.data import Dataset, DataLoader, SubsetRandomSampler\n",
        "from matplotlib import pyplot as plt\n",
        "\n",
        "import evaluate\n",
        "rouge = evaluate.load('rouge')\n",
        "DEVICE = torch.device(\"cuda\" if torch.cuda.is_available() else \"cpu\")\n",
        "DEVICE"
      ]
    },
    {
      "cell_type": "code",
      "source": [
        "from google.colab import drive\n",
        "drive.mount('/content/gdrive', force_remount=True)"
      ],
      "metadata": {
        "colab": {
          "base_uri": "https://localhost:8080/"
        },
        "id": "gSbaY9c8rNcp",
        "outputId": "295dfbbb-bfde-4426-eb96-47ed69755d46"
      },
      "execution_count": 3,
      "outputs": [
        {
          "output_type": "stream",
          "name": "stdout",
          "text": [
            "Mounted at /content/gdrive\n"
          ]
        }
      ]
    },
    {
      "cell_type": "markdown",
      "source": [
        "# Dataset Processing"
      ],
      "metadata": {
        "id": "__GnYCCWqRea"
      }
    },
    {
      "cell_type": "code",
      "source": [
        "NUM_INSTANCES = 1000000 # Train Dataset size limit\n",
        "MAX_TITLE_LEN = 20 # Maximum input sequence length\n",
        "MAX_ABSTRACT_LEN = 300 # Maximum output sequence length"
      ],
      "metadata": {
        "id": "lIpw8jy9n-ms"
      },
      "execution_count": 4,
      "outputs": []
    },
    {
      "cell_type": "code",
      "source": [
        "# Create custom dataset object\n",
        "class ArxivDataset(Dataset):\n",
        "    def __init__(self, data_path):\n",
        "        self.data_path = data_path\n",
        "        self.data = np.load(self.data_path, allow_pickle=True)\n",
        "    \n",
        "    def __len__(self):\n",
        "        return len(self.data)\n",
        "    \n",
        "    def __getitem__(self, index):\n",
        "        return self.data[index][1], self.data[index][0]\n",
        "\n",
        "dataset = ArxivDataset(\"/content/gdrive/MyDrive/data_shortened.pickle\")"
      ],
      "metadata": {
        "id": "F8iOrUEqsWx3"
      },
      "execution_count": 5,
      "outputs": []
    },
    {
      "cell_type": "code",
      "source": [
        "print(type(dataset.data[0][0]))\n",
        "print(f\"Dataset size: {len(dataset)}\")"
      ],
      "metadata": {
        "colab": {
          "base_uri": "https://localhost:8080/"
        },
        "id": "1GctZwKQyUn0",
        "outputId": "98f0322d-e6e1-44f3-dc3e-5af69032968b"
      },
      "execution_count": 6,
      "outputs": [
        {
          "output_type": "stream",
          "name": "stdout",
          "text": [
            "<class 'numpy.ndarray'>\n",
            "Dataset size: 1763097\n"
          ]
        }
      ]
    },
    {
      "cell_type": "code",
      "source": [
        "# We we sample from this dataset by sampling from the indices\n",
        "indices = list(range(len(dataset)))\n",
        "test_idx = np.random.choice(indices, size = int(len(dataset) * 0.006), replace = False)\n",
        "train_idx = list(set(indices) - set(test_idx))\n",
        "val_idx = np.random.choice(train_idx, size = int(len(dataset) * 0.003), replace = False)\n",
        "train_idx = list(set(train_idx) - set(val_idx))\n",
        "train_idx = train_idx[:NUM_INSTANCES] # limit the train dataset size\n",
        "train_sampler, val_sampler, test_sampler = SubsetRandomSampler(train_idx), SubsetRandomSampler(val_idx), SubsetRandomSampler(test_idx)\n",
        "\n",
        "# Create sample loaders for dataset\n",
        "train_loader = torch.utils.data.DataLoader(dataset, batch_size = 128, sampler = train_sampler, pin_memory=True)\n",
        "val_loader = torch.utils.data.DataLoader(dataset, batch_size = 32, sampler = val_sampler, pin_memory=True)\n",
        "test_loader = torch.utils.data.DataLoader(dataset, batch_size = 32, sampler = test_sampler, pin_memory=True)"
      ],
      "metadata": {
        "id": "1mjX9DJEpSRh"
      },
      "execution_count": 7,
      "outputs": []
    },
    {
      "cell_type": "code",
      "source": [
        "print(f\"Train dataset size: {len(train_idx)}\")\n",
        "print(f\"Val dataset size: {len(val_idx)}\")\n",
        "print(f\"Test dataset size: {len(test_idx)}\")\n",
        "\n",
        "x, y = next(iter(train_loader)) # Get a batch\n",
        "print(x.shape, y.shape)\n",
        "x, y"
      ],
      "metadata": {
        "id": "dvQRnvn8SnpE",
        "colab": {
          "base_uri": "https://localhost:8080/"
        },
        "outputId": "ef9206d2-1877-472a-80af-c738e5898f75"
      },
      "execution_count": 8,
      "outputs": [
        {
          "output_type": "stream",
          "name": "stdout",
          "text": [
            "Train dataset size: 1000000\n",
            "Val dataset size: 5289\n",
            "Test dataset size: 10578\n",
            "torch.Size([128, 300]) torch.Size([128, 20])\n"
          ]
        },
        {
          "output_type": "execute_result",
          "data": {
            "text/plain": [
              "(tensor([[   2,  527,   94,  ...,    0,    0,    0],\n",
              "         [   2,  142,  625,  ...,    0,    0,    0],\n",
              "         [   2,  203,  693,  ...,    0,    0,    0],\n",
              "         ...,\n",
              "         [   2,  142,  625,  ...,    0,    0,    0],\n",
              "         [   2,  110,  203,  ...,    0,    0,    0],\n",
              "         [   2,   94, 1886,  ...,    0,    0,    0]]),\n",
              " tensor([[    2, 22360,  4515,  ...,     0,     0,     0],\n",
              "         [    2,  1331,  6872,  ...,     0,     0,     0],\n",
              "         [    2,  1322,   223,  ...,     0,     0,     0],\n",
              "         ...,\n",
              "         [    2,  1471,  1129,  ...,     0,     0,     0],\n",
              "         [    2, 13185,  1428,  ...,     0,     0,     0],\n",
              "         [    2,  5530, 29481,  ...,     0,     0,     0]]))"
            ]
          },
          "metadata": {},
          "execution_count": 8
        }
      ]
    },
    {
      "cell_type": "code",
      "source": [
        "# Load the tokenizer\n",
        "bpe = yttm.BPE(model=\"/content/gdrive/MyDrive/tokenizer\")\n",
        "print(f\"Vocab Size: {bpe.vocab_size()}\")"
      ],
      "metadata": {
        "id": "KUYPkVec6_mb",
        "colab": {
          "base_uri": "https://localhost:8080/"
        },
        "outputId": "f360d8f1-48de-4720-ba5f-15e2b4986f75"
      },
      "execution_count": 9,
      "outputs": [
        {
          "output_type": "stream",
          "name": "stdout",
          "text": [
            "Vocab Size: 30000\n"
          ]
        }
      ]
    },
    {
      "cell_type": "markdown",
      "source": [
        "# Transformer Model"
      ],
      "metadata": {
        "id": "IDC-5l_VqUf9"
      }
    },
    {
      "cell_type": "code",
      "source": [
        "class PositionalEncoding(nn.Module):\n",
        "    \"\"\"\n",
        "    Classic Attention-is-all-you-need positional encoding.\n",
        "    Source: PyTorch docs: https://pytorch.org/tutorials/beginner/transformer_tutorial.html\n",
        "    \"\"\"\n",
        "\n",
        "    def __init__(self, d_model, dropout=0.1, max_len=5000):\n",
        "        super(PositionalEncoding, self).__init__()\n",
        "        self.dropout = nn.Dropout(p=dropout)\n",
        "\n",
        "        pe = torch.zeros(max_len, d_model)\n",
        "        position = torch.arange(0, max_len, dtype=torch.float).unsqueeze(1)\n",
        "        div_term = torch.exp(torch.arange(0, d_model, 2).float() * (-math.log(10000.0) / d_model))\n",
        "        pe[:, 0::2] = torch.sin(position * div_term)\n",
        "        pe[:, 1::2] = torch.cos(position * div_term)\n",
        "        pe = pe.unsqueeze(0).transpose(0, 1)\n",
        "        self.register_buffer('pe', pe)\n",
        "\n",
        "    def forward(self, x):\n",
        "        x = x + self.pe[:x.size(0), :]\n",
        "        return self.dropout(x)\n",
        "\n",
        "\n",
        "def generate_square_subsequent_mask(size):\n",
        "    \"\"\"\n",
        "    Generates an upper-triangular matrix of -inf, with zeros on diag.\n",
        "    Source: PyTorch docs: https://pytorch.org/tutorials/beginner/transformer_tutorial.html\n",
        "    \"\"\"\n",
        "    return torch.triu(torch.ones(size, size) * float('-inf'), diagonal=1)\n",
        "\n",
        "\n",
        "class Transformer(nn.Module):\n",
        "    \"\"\"\n",
        "    Transformer model with both encoder and decoder (seq2seq).\n",
        "    Prediction-time inference is done greedily (argmax of logits).\n",
        "    \"\"\"\n",
        "\n",
        "    def __init__(self, vocab_size, nhead, num_layers, hidden_dim, embedding_dim, dropout, max_output_length):\n",
        "        super().__init__()\n",
        "\n",
        "        self.dim = embedding_dim\n",
        "        self.max_output_length = max_output_length\n",
        "\n",
        "        # Encoder setup\n",
        "        self.enc_embedding = nn.Embedding(vocab_size, embedding_dim)\n",
        "        self.pos_encoder = PositionalEncoding(d_model=self.dim, dropout=dropout)\n",
        "        self.transformer_encoder = nn.TransformerEncoder(\n",
        "            encoder_layer=nn.TransformerEncoderLayer(d_model=self.dim, nhead=nhead, dim_feedforward=hidden_dim),\n",
        "            num_layers=num_layers\n",
        "        )\n",
        "\n",
        "        # Decoder setup\n",
        "        self.dec_embedding = nn.Embedding(vocab_size, embedding_dim)\n",
        "        self.y_mask = generate_square_subsequent_mask(self.max_output_length)\n",
        "        self.transformer_decoder = nn.TransformerDecoder(\n",
        "            decoder_layer=nn.TransformerDecoderLayer(d_model=self.dim, nhead=nhead, dim_feedforward=hidden_dim),\n",
        "            num_layers=num_layers\n",
        "        )\n",
        "        self.fc = nn.Linear(self.dim, vocab_size)\n",
        "\n",
        "        # Init embedding and fc weights\n",
        "        self.init_weights()\n",
        "    \n",
        "    def init_weights(self):\n",
        "        initrange = 0.1\n",
        "        self.enc_embedding.weight.data.uniform_(-initrange, initrange)\n",
        "        self.dec_embedding.weight.data.uniform_(-initrange, initrange)\n",
        "        self.fc.bias.data.zero_()\n",
        "        self.fc.weight.data.uniform_(-initrange, initrange)\n",
        "      \n",
        "    def forward(self, x, y) :\n",
        "        \"\"\"\n",
        "        Compute forward pass through transformer.\n",
        "        \"\"\"\n",
        "        encoded_x = self.encode(x)\n",
        "        output = self.decode(y, encoded_x)\n",
        "        return output.permute(1, 2, 0)\n",
        "\n",
        "    def encode(self, x):\n",
        "        \"\"\"\n",
        "        Passes x through the transformer encoder.\n",
        "        \"\"\"\n",
        "        x = x.permute(1, 0)\n",
        "        x = self.enc_embedding(x) * math.sqrt(self.dim)\n",
        "        x = self.pos_encoder(x)\n",
        "        x = self.transformer_encoder(x)\n",
        "        return x\n",
        "\n",
        "    def decode(self, y, memory):\n",
        "        \"\"\"\n",
        "        Given memory (encoder output), computes decoder output.\n",
        "        \"\"\"\n",
        "        y = y.permute(1, 0)\n",
        "        y = self.dec_embedding(y) * math.sqrt(self.dim)\n",
        "        y = self.pos_encoder(y)\n",
        "        y_mask = self.y_mask[:y.shape[0], :y.shape[0]].type_as(memory) # slice the mask\n",
        "        output = self.transformer_decoder(y, memory, y_mask)\n",
        "        output = self.fc(output)\n",
        "        return output\n",
        "\n",
        "    def predict(self, x):\n",
        "        \"\"\"\n",
        "        Method to use at inference/test time. Predict y from x one token at a time. This method is greedy\n",
        "        decoding (argmax of logits).\n",
        "        \"\"\"\n",
        "        memory = self.encode(x)\n",
        "        output_tokens = (torch.ones((x.shape[0], self.max_output_length))).type_as(x).long()\n",
        "        output_tokens[:, 0] = bpe.subword_to_id(\"<BOS>\") # Initialize with BOS index\n",
        "        for o in range(1, self.max_output_length):\n",
        "            y = output_tokens[:, :o] \n",
        "            output = self.decode(y, memory)\n",
        "            output = torch.argmax(output, dim=-1)\n",
        "            output_tokens[:, o] = output[-1:]  # Get the last output token\n",
        "        return output_tokens\n",
        "\n",
        "# Model Hyperparameter Settings\n",
        "VOCAB_SIZE = bpe.vocab_size() # vocab size \n",
        "EMBEDDING_DIM = 512 # Dimension for embedding for both encoder and decoder embeddings\n",
        "HIDDEN_DIM = 1024 # Number of units in feedforward network model for both encoder and decoder layers\n",
        "NUM_HEADS = 8 # Number of multihead attention models\n",
        "NUM_LAYERS = 4 # Number of sub-encoder/sub-decoder layers in encoder/decoder\n",
        "DROPOUT = 0.2 # Dropout for positional encoding\n",
        "\n",
        "# Create model\n",
        "model = Transformer(VOCAB_SIZE, NUM_HEADS, NUM_LAYERS, HIDDEN_DIM, EMBEDDING_DIM, DROPOUT, MAX_TITLE_LEN)\n",
        "model.to(DEVICE)\n",
        "pass # pass to avoid outputting model summary"
      ],
      "metadata": {
        "id": "DexGCI7Dpe1F"
      },
      "execution_count": 10,
      "outputs": []
    },
    {
      "cell_type": "markdown",
      "source": [
        "# Training"
      ],
      "metadata": {
        "id": "L0tSStQBqWzT"
      }
    },
    {
      "cell_type": "code",
      "source": [
        "# Set up training params\n",
        "LEARNING_RATE = 1e-4\n",
        "WEIGHT_DECAY = 1e-5\n",
        "optimizer = torch.optim.Adam(model.parameters(), lr=LEARNING_RATE, weight_decay=WEIGHT_DECAY)\n",
        "criterion = nn.CrossEntropyLoss()\n",
        "\n",
        "train_losses = []\n",
        "train_iters = []\n",
        "val_losses = []\n",
        "val_iters = []\n",
        "epoch = 0\n",
        "n = 0\n",
        "\n",
        "# Calculate validation loss for initial datapoint\n",
        "val_loss = 0\n",
        "val_total = 0\n",
        "for j, (val_x, val_y) in enumerate(val_loader):\n",
        "  val_x, val_y  = val_x.to(DEVICE), val_y.to(DEVICE)\n",
        "  val_loss += criterion(model(val_x, val_y[:, :-1]), val_y[:, 1:]).item()\n",
        "  val_total += 1\n",
        "val_iters.append(n)\n",
        "val_losses.append(val_loss / val_total)\n",
        "\n",
        "# Use a infinite loop since we are checkpointing\n",
        "while True:\n",
        "\n",
        "  # Epoch pass\n",
        "  for i, (x, y) in enumerate(train_loader):\n",
        "    x, y  = x.to(DEVICE), y.to(DEVICE)\n",
        "    logits = model(x, y[:, :-1])\n",
        "    loss = criterion(logits, y[:, 1:])\n",
        "\n",
        "    # Calculate train loss at every iteration\n",
        "    train_iters.append(n)\n",
        "    train_losses.append(float(loss)) \n",
        "\n",
        "    optimizer.zero_grad()\n",
        "    loss.backward()\n",
        "    # Gradient clipping\n",
        "    torch.nn.utils.clip_grad_norm_(model.parameters(), max_norm=5, norm_type=2.0) \n",
        "    optimizer.step()\n",
        "\n",
        "    n += 1\n",
        "    if n % 100 == 0:\n",
        "      print(f\"Completed Iteration {i+1}/{len(train_idx) // 128} | Total Iterations {n}\") \n",
        "\n",
        "  # Calculate validation loss at every epoch to avoid overhead\n",
        "  val_loss = 0\n",
        "  val_total = 0\n",
        "  for j, (val_x, val_y) in enumerate(val_loader):\n",
        "    val_x, val_y  = val_x.to(DEVICE), val_y.to(DEVICE)\n",
        "    val_loss += criterion(model(val_x, val_y[:, :-1]), val_y[:, 1:]).item()\n",
        "    val_total += 1\n",
        "  \n",
        "  val_iters.append(n)\n",
        "  val_losses.append(val_loss / val_total)\n",
        "\n",
        "  # Checkpoint every epoch\n",
        "  print(f\"Epoch {epoch + 1} | Avg Train Loss: {train_losses[-1]:02.5f} | Avg Val Loss: {(val_loss / val_total):02.5f}\")\n",
        "  torch.save(model.state_dict(), f\"/content/gdrive/MyDrive/checkpoints/model2-sharven-e{epoch}-i{n}.pth\")\n",
        "\n",
        "  # Save the training curve plot\n",
        "  plt.title(f\"Loss Learning Curve\") \n",
        "  plt.plot(train_iters, train_losses, label=\"Train\")\n",
        "  plt.plot(val_iters, val_losses, label=\"Validation\")\n",
        "  plt.xlabel(\"Iteration\")\n",
        "  plt.ylabel(\"Loss\")\n",
        "  plt.legend(loc='best')\n",
        "  plt.savefig(f\"/content/gdrive/MyDrive/checkpoints/model2-sharven-e{epoch}-i{n}.png\")\n",
        "  plt.close()\n",
        "\n",
        "  epoch += 1"
      ],
      "metadata": {
        "id": "WiHEczuDqQdg",
        "colab": {
          "base_uri": "https://localhost:8080/",
          "height": 1000
        },
        "outputId": "b6d4a9ab-ab32-4fba-df38-d75b362ac44c"
      },
      "execution_count": 11,
      "outputs": [
        {
          "output_type": "stream",
          "name": "stdout",
          "text": [
            "Completed Iteration 100/7812 | Total Iterations 100\n",
            "Completed Iteration 200/7812 | Total Iterations 200\n",
            "Completed Iteration 300/7812 | Total Iterations 300\n",
            "Completed Iteration 400/7812 | Total Iterations 400\n",
            "Completed Iteration 500/7812 | Total Iterations 500\n",
            "Completed Iteration 600/7812 | Total Iterations 600\n",
            "Completed Iteration 700/7812 | Total Iterations 700\n",
            "Completed Iteration 800/7812 | Total Iterations 800\n",
            "Completed Iteration 900/7812 | Total Iterations 900\n",
            "Completed Iteration 1000/7812 | Total Iterations 1000\n",
            "Completed Iteration 1100/7812 | Total Iterations 1100\n",
            "Completed Iteration 1200/7812 | Total Iterations 1200\n",
            "Completed Iteration 1300/7812 | Total Iterations 1300\n",
            "Completed Iteration 1400/7812 | Total Iterations 1400\n",
            "Completed Iteration 1500/7812 | Total Iterations 1500\n",
            "Completed Iteration 1600/7812 | Total Iterations 1600\n",
            "Completed Iteration 1700/7812 | Total Iterations 1700\n",
            "Completed Iteration 1800/7812 | Total Iterations 1800\n",
            "Completed Iteration 1900/7812 | Total Iterations 1900\n",
            "Completed Iteration 2000/7812 | Total Iterations 2000\n",
            "Completed Iteration 2100/7812 | Total Iterations 2100\n",
            "Completed Iteration 2200/7812 | Total Iterations 2200\n",
            "Completed Iteration 2300/7812 | Total Iterations 2300\n",
            "Completed Iteration 2400/7812 | Total Iterations 2400\n",
            "Completed Iteration 2500/7812 | Total Iterations 2500\n",
            "Completed Iteration 2600/7812 | Total Iterations 2600\n",
            "Completed Iteration 2700/7812 | Total Iterations 2700\n",
            "Completed Iteration 2800/7812 | Total Iterations 2800\n",
            "Completed Iteration 2900/7812 | Total Iterations 2900\n",
            "Completed Iteration 3000/7812 | Total Iterations 3000\n",
            "Completed Iteration 3100/7812 | Total Iterations 3100\n",
            "Completed Iteration 3200/7812 | Total Iterations 3200\n",
            "Completed Iteration 3300/7812 | Total Iterations 3300\n",
            "Completed Iteration 3400/7812 | Total Iterations 3400\n",
            "Completed Iteration 3500/7812 | Total Iterations 3500\n",
            "Completed Iteration 3600/7812 | Total Iterations 3600\n",
            "Completed Iteration 3700/7812 | Total Iterations 3700\n",
            "Completed Iteration 3800/7812 | Total Iterations 3800\n",
            "Completed Iteration 3900/7812 | Total Iterations 3900\n",
            "Completed Iteration 4000/7812 | Total Iterations 4000\n",
            "Completed Iteration 4100/7812 | Total Iterations 4100\n",
            "Completed Iteration 4200/7812 | Total Iterations 4200\n",
            "Completed Iteration 4300/7812 | Total Iterations 4300\n",
            "Completed Iteration 4400/7812 | Total Iterations 4400\n",
            "Completed Iteration 4500/7812 | Total Iterations 4500\n",
            "Completed Iteration 4600/7812 | Total Iterations 4600\n",
            "Completed Iteration 4700/7812 | Total Iterations 4700\n",
            "Completed Iteration 4800/7812 | Total Iterations 4800\n",
            "Completed Iteration 4900/7812 | Total Iterations 4900\n",
            "Completed Iteration 5000/7812 | Total Iterations 5000\n",
            "Completed Iteration 5100/7812 | Total Iterations 5100\n",
            "Completed Iteration 5200/7812 | Total Iterations 5200\n",
            "Completed Iteration 5300/7812 | Total Iterations 5300\n",
            "Completed Iteration 5400/7812 | Total Iterations 5400\n",
            "Completed Iteration 5500/7812 | Total Iterations 5500\n",
            "Completed Iteration 5600/7812 | Total Iterations 5600\n",
            "Completed Iteration 5700/7812 | Total Iterations 5700\n",
            "Completed Iteration 5800/7812 | Total Iterations 5800\n",
            "Completed Iteration 5900/7812 | Total Iterations 5900\n",
            "Completed Iteration 6000/7812 | Total Iterations 6000\n",
            "Completed Iteration 6100/7812 | Total Iterations 6100\n",
            "Completed Iteration 6200/7812 | Total Iterations 6200\n",
            "Completed Iteration 6300/7812 | Total Iterations 6300\n",
            "Completed Iteration 6400/7812 | Total Iterations 6400\n",
            "Completed Iteration 6500/7812 | Total Iterations 6500\n",
            "Completed Iteration 6600/7812 | Total Iterations 6600\n",
            "Completed Iteration 6700/7812 | Total Iterations 6700\n",
            "Completed Iteration 6800/7812 | Total Iterations 6800\n",
            "Completed Iteration 6900/7812 | Total Iterations 6900\n",
            "Completed Iteration 7000/7812 | Total Iterations 7000\n",
            "Completed Iteration 7100/7812 | Total Iterations 7100\n",
            "Completed Iteration 7200/7812 | Total Iterations 7200\n",
            "Completed Iteration 7300/7812 | Total Iterations 7300\n",
            "Completed Iteration 7400/7812 | Total Iterations 7400\n",
            "Completed Iteration 7500/7812 | Total Iterations 7500\n",
            "Completed Iteration 7600/7812 | Total Iterations 7600\n",
            "Completed Iteration 7700/7812 | Total Iterations 7700\n",
            "Completed Iteration 7800/7812 | Total Iterations 7800\n",
            "Epoch 1 | Avg Train Loss: 2.63144 | Avg Val Loss: 2.46540\n",
            "Completed Iteration 87/7812 | Total Iterations 7900\n",
            "Completed Iteration 187/7812 | Total Iterations 8000\n",
            "Completed Iteration 287/7812 | Total Iterations 8100\n",
            "Completed Iteration 387/7812 | Total Iterations 8200\n",
            "Completed Iteration 487/7812 | Total Iterations 8300\n",
            "Completed Iteration 587/7812 | Total Iterations 8400\n",
            "Completed Iteration 687/7812 | Total Iterations 8500\n",
            "Completed Iteration 787/7812 | Total Iterations 8600\n",
            "Completed Iteration 887/7812 | Total Iterations 8700\n",
            "Completed Iteration 987/7812 | Total Iterations 8800\n",
            "Completed Iteration 1087/7812 | Total Iterations 8900\n",
            "Completed Iteration 1187/7812 | Total Iterations 9000\n",
            "Completed Iteration 1287/7812 | Total Iterations 9100\n",
            "Completed Iteration 1387/7812 | Total Iterations 9200\n",
            "Completed Iteration 1487/7812 | Total Iterations 9300\n",
            "Completed Iteration 1587/7812 | Total Iterations 9400\n",
            "Completed Iteration 1687/7812 | Total Iterations 9500\n",
            "Completed Iteration 1787/7812 | Total Iterations 9600\n",
            "Completed Iteration 1887/7812 | Total Iterations 9700\n",
            "Completed Iteration 1987/7812 | Total Iterations 9800\n",
            "Completed Iteration 2087/7812 | Total Iterations 9900\n",
            "Completed Iteration 2187/7812 | Total Iterations 10000\n",
            "Completed Iteration 2287/7812 | Total Iterations 10100\n",
            "Completed Iteration 2387/7812 | Total Iterations 10200\n",
            "Completed Iteration 2487/7812 | Total Iterations 10300\n",
            "Completed Iteration 2587/7812 | Total Iterations 10400\n",
            "Completed Iteration 2687/7812 | Total Iterations 10500\n",
            "Completed Iteration 2787/7812 | Total Iterations 10600\n",
            "Completed Iteration 2887/7812 | Total Iterations 10700\n",
            "Completed Iteration 2987/7812 | Total Iterations 10800\n",
            "Completed Iteration 3087/7812 | Total Iterations 10900\n",
            "Completed Iteration 3187/7812 | Total Iterations 11000\n",
            "Completed Iteration 3287/7812 | Total Iterations 11100\n",
            "Completed Iteration 3387/7812 | Total Iterations 11200\n",
            "Completed Iteration 3487/7812 | Total Iterations 11300\n",
            "Completed Iteration 3587/7812 | Total Iterations 11400\n",
            "Completed Iteration 3687/7812 | Total Iterations 11500\n",
            "Completed Iteration 3787/7812 | Total Iterations 11600\n",
            "Completed Iteration 3887/7812 | Total Iterations 11700\n",
            "Completed Iteration 3987/7812 | Total Iterations 11800\n",
            "Completed Iteration 4087/7812 | Total Iterations 11900\n",
            "Completed Iteration 4187/7812 | Total Iterations 12000\n",
            "Completed Iteration 4287/7812 | Total Iterations 12100\n",
            "Completed Iteration 4387/7812 | Total Iterations 12200\n",
            "Completed Iteration 4487/7812 | Total Iterations 12300\n",
            "Completed Iteration 4587/7812 | Total Iterations 12400\n",
            "Completed Iteration 4687/7812 | Total Iterations 12500\n",
            "Completed Iteration 4787/7812 | Total Iterations 12600\n",
            "Completed Iteration 4887/7812 | Total Iterations 12700\n",
            "Completed Iteration 4987/7812 | Total Iterations 12800\n",
            "Completed Iteration 5087/7812 | Total Iterations 12900\n",
            "Completed Iteration 5187/7812 | Total Iterations 13000\n",
            "Completed Iteration 5287/7812 | Total Iterations 13100\n",
            "Completed Iteration 5387/7812 | Total Iterations 13200\n",
            "Completed Iteration 5487/7812 | Total Iterations 13300\n",
            "Completed Iteration 5587/7812 | Total Iterations 13400\n",
            "Completed Iteration 5687/7812 | Total Iterations 13500\n",
            "Completed Iteration 5787/7812 | Total Iterations 13600\n",
            "Completed Iteration 5887/7812 | Total Iterations 13700\n",
            "Completed Iteration 5987/7812 | Total Iterations 13800\n",
            "Completed Iteration 6087/7812 | Total Iterations 13900\n",
            "Completed Iteration 6187/7812 | Total Iterations 14000\n",
            "Completed Iteration 6287/7812 | Total Iterations 14100\n",
            "Completed Iteration 6387/7812 | Total Iterations 14200\n",
            "Completed Iteration 6487/7812 | Total Iterations 14300\n",
            "Completed Iteration 6587/7812 | Total Iterations 14400\n",
            "Completed Iteration 6687/7812 | Total Iterations 14500\n",
            "Completed Iteration 6787/7812 | Total Iterations 14600\n",
            "Completed Iteration 6887/7812 | Total Iterations 14700\n",
            "Completed Iteration 6987/7812 | Total Iterations 14800\n",
            "Completed Iteration 7087/7812 | Total Iterations 14900\n",
            "Completed Iteration 7187/7812 | Total Iterations 15000\n",
            "Completed Iteration 7287/7812 | Total Iterations 15100\n",
            "Completed Iteration 7387/7812 | Total Iterations 15200\n",
            "Completed Iteration 7487/7812 | Total Iterations 15300\n",
            "Completed Iteration 7587/7812 | Total Iterations 15400\n",
            "Completed Iteration 7687/7812 | Total Iterations 15500\n",
            "Completed Iteration 7787/7812 | Total Iterations 15600\n",
            "Epoch 2 | Avg Train Loss: 2.01966 | Avg Val Loss: 2.12088\n",
            "Completed Iteration 74/7812 | Total Iterations 15700\n"
          ]
        },
        {
          "output_type": "error",
          "ename": "KeyboardInterrupt",
          "evalue": "ignored",
          "traceback": [
            "\u001b[0;31m---------------------------------------------------------------------------\u001b[0m",
            "\u001b[0;31mKeyboardInterrupt\u001b[0m                         Traceback (most recent call last)",
            "\u001b[0;32m<ipython-input-11-cbb845673248>\u001b[0m in \u001b[0;36m<cell line: 28>\u001b[0;34m()\u001b[0m\n\u001b[1;32m     28\u001b[0m   \u001b[0;32mfor\u001b[0m \u001b[0mi\u001b[0m\u001b[0;34m,\u001b[0m \u001b[0;34m(\u001b[0m\u001b[0mx\u001b[0m\u001b[0;34m,\u001b[0m \u001b[0my\u001b[0m\u001b[0;34m)\u001b[0m \u001b[0;32min\u001b[0m \u001b[0menumerate\u001b[0m\u001b[0;34m(\u001b[0m\u001b[0mtrain_loader\u001b[0m\u001b[0;34m)\u001b[0m\u001b[0;34m:\u001b[0m\u001b[0;34m\u001b[0m\u001b[0;34m\u001b[0m\u001b[0m\n\u001b[1;32m     29\u001b[0m     \u001b[0mx\u001b[0m\u001b[0;34m,\u001b[0m \u001b[0my\u001b[0m  \u001b[0;34m=\u001b[0m \u001b[0mx\u001b[0m\u001b[0;34m.\u001b[0m\u001b[0mto\u001b[0m\u001b[0;34m(\u001b[0m\u001b[0mDEVICE\u001b[0m\u001b[0;34m)\u001b[0m\u001b[0;34m,\u001b[0m \u001b[0my\u001b[0m\u001b[0;34m.\u001b[0m\u001b[0mto\u001b[0m\u001b[0;34m(\u001b[0m\u001b[0mDEVICE\u001b[0m\u001b[0;34m)\u001b[0m\u001b[0;34m\u001b[0m\u001b[0;34m\u001b[0m\u001b[0m\n\u001b[0;32m---> 30\u001b[0;31m     \u001b[0mlogits\u001b[0m \u001b[0;34m=\u001b[0m \u001b[0mmodel\u001b[0m\u001b[0;34m(\u001b[0m\u001b[0mx\u001b[0m\u001b[0;34m,\u001b[0m \u001b[0my\u001b[0m\u001b[0;34m[\u001b[0m\u001b[0;34m:\u001b[0m\u001b[0;34m,\u001b[0m \u001b[0;34m:\u001b[0m\u001b[0;34m-\u001b[0m\u001b[0;36m1\u001b[0m\u001b[0;34m]\u001b[0m\u001b[0;34m)\u001b[0m\u001b[0;34m\u001b[0m\u001b[0;34m\u001b[0m\u001b[0m\n\u001b[0m\u001b[1;32m     31\u001b[0m     \u001b[0mloss\u001b[0m \u001b[0;34m=\u001b[0m \u001b[0mcriterion\u001b[0m\u001b[0;34m(\u001b[0m\u001b[0mlogits\u001b[0m\u001b[0;34m,\u001b[0m \u001b[0my\u001b[0m\u001b[0;34m[\u001b[0m\u001b[0;34m:\u001b[0m\u001b[0;34m,\u001b[0m \u001b[0;36m1\u001b[0m\u001b[0;34m:\u001b[0m\u001b[0;34m]\u001b[0m\u001b[0;34m)\u001b[0m\u001b[0;34m\u001b[0m\u001b[0;34m\u001b[0m\u001b[0m\n\u001b[1;32m     32\u001b[0m \u001b[0;34m\u001b[0m\u001b[0m\n",
            "\u001b[0;32m/usr/local/lib/python3.9/dist-packages/torch/nn/modules/module.py\u001b[0m in \u001b[0;36m_call_impl\u001b[0;34m(self, *args, **kwargs)\u001b[0m\n\u001b[1;32m   1499\u001b[0m                 \u001b[0;32mor\u001b[0m \u001b[0m_global_backward_pre_hooks\u001b[0m \u001b[0;32mor\u001b[0m \u001b[0m_global_backward_hooks\u001b[0m\u001b[0;34m\u001b[0m\u001b[0;34m\u001b[0m\u001b[0m\n\u001b[1;32m   1500\u001b[0m                 or _global_forward_hooks or _global_forward_pre_hooks):\n\u001b[0;32m-> 1501\u001b[0;31m             \u001b[0;32mreturn\u001b[0m \u001b[0mforward_call\u001b[0m\u001b[0;34m(\u001b[0m\u001b[0;34m*\u001b[0m\u001b[0margs\u001b[0m\u001b[0;34m,\u001b[0m \u001b[0;34m**\u001b[0m\u001b[0mkwargs\u001b[0m\u001b[0;34m)\u001b[0m\u001b[0;34m\u001b[0m\u001b[0;34m\u001b[0m\u001b[0m\n\u001b[0m\u001b[1;32m   1502\u001b[0m         \u001b[0;31m# Do not call functions when jit is used\u001b[0m\u001b[0;34m\u001b[0m\u001b[0;34m\u001b[0m\u001b[0m\n\u001b[1;32m   1503\u001b[0m         \u001b[0mfull_backward_hooks\u001b[0m\u001b[0;34m,\u001b[0m \u001b[0mnon_full_backward_hooks\u001b[0m \u001b[0;34m=\u001b[0m \u001b[0;34m[\u001b[0m\u001b[0;34m]\u001b[0m\u001b[0;34m,\u001b[0m \u001b[0;34m[\u001b[0m\u001b[0;34m]\u001b[0m\u001b[0;34m\u001b[0m\u001b[0;34m\u001b[0m\u001b[0m\n",
            "\u001b[0;32m<ipython-input-10-d5085132b963>\u001b[0m in \u001b[0;36mforward\u001b[0;34m(self, x, y)\u001b[0m\n\u001b[1;32m     74\u001b[0m         \"\"\"\n\u001b[1;32m     75\u001b[0m         \u001b[0mencoded_x\u001b[0m \u001b[0;34m=\u001b[0m \u001b[0mself\u001b[0m\u001b[0;34m.\u001b[0m\u001b[0mencode\u001b[0m\u001b[0;34m(\u001b[0m\u001b[0mx\u001b[0m\u001b[0;34m)\u001b[0m\u001b[0;34m\u001b[0m\u001b[0;34m\u001b[0m\u001b[0m\n\u001b[0;32m---> 76\u001b[0;31m         \u001b[0moutput\u001b[0m \u001b[0;34m=\u001b[0m \u001b[0mself\u001b[0m\u001b[0;34m.\u001b[0m\u001b[0mdecode\u001b[0m\u001b[0;34m(\u001b[0m\u001b[0my\u001b[0m\u001b[0;34m,\u001b[0m \u001b[0mencoded_x\u001b[0m\u001b[0;34m)\u001b[0m\u001b[0;34m\u001b[0m\u001b[0;34m\u001b[0m\u001b[0m\n\u001b[0m\u001b[1;32m     77\u001b[0m         \u001b[0;32mreturn\u001b[0m \u001b[0moutput\u001b[0m\u001b[0;34m.\u001b[0m\u001b[0mpermute\u001b[0m\u001b[0;34m(\u001b[0m\u001b[0;36m1\u001b[0m\u001b[0;34m,\u001b[0m \u001b[0;36m2\u001b[0m\u001b[0;34m,\u001b[0m \u001b[0;36m0\u001b[0m\u001b[0;34m)\u001b[0m\u001b[0;34m\u001b[0m\u001b[0;34m\u001b[0m\u001b[0m\n\u001b[1;32m     78\u001b[0m \u001b[0;34m\u001b[0m\u001b[0m\n",
            "\u001b[0;32m<ipython-input-10-d5085132b963>\u001b[0m in \u001b[0;36mdecode\u001b[0;34m(self, y, memory)\u001b[0m\n\u001b[1;32m     94\u001b[0m         \u001b[0my\u001b[0m \u001b[0;34m=\u001b[0m \u001b[0mself\u001b[0m\u001b[0;34m.\u001b[0m\u001b[0mdec_embedding\u001b[0m\u001b[0;34m(\u001b[0m\u001b[0my\u001b[0m\u001b[0;34m)\u001b[0m \u001b[0;34m*\u001b[0m \u001b[0mmath\u001b[0m\u001b[0;34m.\u001b[0m\u001b[0msqrt\u001b[0m\u001b[0;34m(\u001b[0m\u001b[0mself\u001b[0m\u001b[0;34m.\u001b[0m\u001b[0mdim\u001b[0m\u001b[0;34m)\u001b[0m\u001b[0;34m\u001b[0m\u001b[0;34m\u001b[0m\u001b[0m\n\u001b[1;32m     95\u001b[0m         \u001b[0my\u001b[0m \u001b[0;34m=\u001b[0m \u001b[0mself\u001b[0m\u001b[0;34m.\u001b[0m\u001b[0mpos_encoder\u001b[0m\u001b[0;34m(\u001b[0m\u001b[0my\u001b[0m\u001b[0;34m)\u001b[0m\u001b[0;34m\u001b[0m\u001b[0;34m\u001b[0m\u001b[0m\n\u001b[0;32m---> 96\u001b[0;31m         \u001b[0my_mask\u001b[0m \u001b[0;34m=\u001b[0m \u001b[0mself\u001b[0m\u001b[0;34m.\u001b[0m\u001b[0my_mask\u001b[0m\u001b[0;34m[\u001b[0m\u001b[0;34m:\u001b[0m\u001b[0my\u001b[0m\u001b[0;34m.\u001b[0m\u001b[0mshape\u001b[0m\u001b[0;34m[\u001b[0m\u001b[0;36m0\u001b[0m\u001b[0;34m]\u001b[0m\u001b[0;34m,\u001b[0m \u001b[0;34m:\u001b[0m\u001b[0my\u001b[0m\u001b[0;34m.\u001b[0m\u001b[0mshape\u001b[0m\u001b[0;34m[\u001b[0m\u001b[0;36m0\u001b[0m\u001b[0;34m]\u001b[0m\u001b[0;34m]\u001b[0m\u001b[0;34m.\u001b[0m\u001b[0mtype_as\u001b[0m\u001b[0;34m(\u001b[0m\u001b[0mmemory\u001b[0m\u001b[0;34m)\u001b[0m \u001b[0;31m# slice the mask\u001b[0m\u001b[0;34m\u001b[0m\u001b[0;34m\u001b[0m\u001b[0m\n\u001b[0m\u001b[1;32m     97\u001b[0m         \u001b[0moutput\u001b[0m \u001b[0;34m=\u001b[0m \u001b[0mself\u001b[0m\u001b[0;34m.\u001b[0m\u001b[0mtransformer_decoder\u001b[0m\u001b[0;34m(\u001b[0m\u001b[0my\u001b[0m\u001b[0;34m,\u001b[0m \u001b[0mmemory\u001b[0m\u001b[0;34m,\u001b[0m \u001b[0my_mask\u001b[0m\u001b[0;34m)\u001b[0m\u001b[0;34m\u001b[0m\u001b[0;34m\u001b[0m\u001b[0m\n\u001b[1;32m     98\u001b[0m         \u001b[0moutput\u001b[0m \u001b[0;34m=\u001b[0m \u001b[0mself\u001b[0m\u001b[0;34m.\u001b[0m\u001b[0mfc\u001b[0m\u001b[0;34m(\u001b[0m\u001b[0moutput\u001b[0m\u001b[0;34m)\u001b[0m\u001b[0;34m\u001b[0m\u001b[0;34m\u001b[0m\u001b[0m\n",
            "\u001b[0;31mKeyboardInterrupt\u001b[0m: "
          ]
        }
      ]
    },
    {
      "cell_type": "code",
      "source": [
        "# Plot training curves\n",
        "plt.title(f\"Loss Learning Curve\") \n",
        "plt.plot(train_iters, train_losses, label=\"Train\")\n",
        "plt.plot(val_iters, val_losses, label=\"Validation\")\n",
        "plt.xlabel(\"Iteration\")\n",
        "plt.ylabel(\"Loss\")\n",
        "plt.legend(loc='best')\n",
        "plt.show()"
      ],
      "metadata": {
        "colab": {
          "base_uri": "https://localhost:8080/",
          "height": 472
        },
        "id": "pqPTIQStnnRm",
        "outputId": "11daef32-c8b4-48c1-bd73-7e7767f095b1"
      },
      "execution_count": 12,
      "outputs": [
        {
          "output_type": "display_data",
          "data": {
            "text/plain": [
              "<Figure size 640x480 with 1 Axes>"
            ],
            "image/png": "[encoded data removed]"
          },
          "metadata": {}
        }
      ]
    },
    {
      "cell_type": "markdown",
      "source": [
        "# Testing (ROUGE scores)\n",
        "\n",
        "Computer the average ROUGE scores (higher is better)."
      ],
      "metadata": {
        "id": "k7393HQIqYcr"
      }
    },
    {
      "cell_type": "code",
      "source": [
        "def get_avg_rouge_score(model, test_loader):\n",
        "  \"\"\"\n",
        "  Compute the average ROUGE metrics given the test dataset.\n",
        "  In general, ROUGE metrics compares how \"similar\" the prediction is compared to the expected output\n",
        "\n",
        "  More info can be found here: https://en.wikipedia.org/wiki/ROUGE_(metric)\n",
        "\n",
        "  Outputs a dictionary with average ROUGE-1, ROUGE-2, and ROUGE-L scores\n",
        "  \"\"\"\n",
        "  model.eval()\n",
        "  avg_scores = {\"rouge1\": 0, \"rouge2\": 0, \"rougeL\": 0}\n",
        "  total = 0\n",
        "  for i, (x, y) in enumerate(test_loader):\n",
        "\n",
        "    x = x.to(DEVICE)\n",
        "    y = y.to(DEVICE)\n",
        "\n",
        "    logits = model(x, y[:, :-1])\n",
        "    pred = model.predict(x)\n",
        "\n",
        "    test_sentences = []\n",
        "    pred_sentences = []\n",
        "\n",
        "    for j in range(y.shape[0]):\n",
        "      actual = bpe.decode(y[j, :].tolist())[0]\n",
        "      actual = actual.replace(\"<BOS>\", \"\").replace(\"<EOS>\", \"\").replace(\"<PAD>\", \"\")\n",
        "      predicted = bpe.decode(pred[j, :].tolist())[0]\n",
        "      predicted = predicted.replace(\"<BOS>\", \"\").replace(\"<EOS>\", \"\").replace(\"<PAD>\", \"\")\n",
        "      test_sentences.append([actual])\n",
        "      pred_sentences.append(predicted)\n",
        "\n",
        "    if i % 25 == 0:\n",
        "      print(f\"ROUGE Score: Completed Iteration {i+1}/{len(test_idx)//32}\") \n",
        "\n",
        "    results = rouge.compute(predictions=pred_sentences, references=test_sentences)\n",
        "    avg_scores[\"rougeL\"] += results['rougeL']\n",
        "    avg_scores[\"rouge2\"] += results['rouge2']\n",
        "    avg_scores[\"rouge1\"] += results['rouge1']\n",
        "    total += 1\n",
        "\n",
        "  # Calculate averages\n",
        "  out = {}\n",
        "  out[\"rougeL\"] = avg_scores[\"rougeL\"] / total\n",
        "  out[\"rouge2\"] = avg_scores[\"rouge2\"] / total\n",
        "  out[\"rouge1\"] = avg_scores[\"rouge1\"] / total\n",
        "\n",
        "  return out"
      ],
      "metadata": {
        "id": "oLD1Ayr9K3gD"
      },
      "execution_count": 13,
      "outputs": []
    },
    {
      "cell_type": "markdown",
      "source": [
        "# Test Dataset Performance\n",
        "\n",
        "Evaluate ROUGE scores on test dataset"
      ],
      "metadata": {
        "id": "upcltdCkLNjQ"
      }
    },
    {
      "cell_type": "code",
      "source": [
        "score = get_avg_rouge_score(model, test_loader)\n",
        "print(f\"Average ROUGE Scores {score}\")"
      ],
      "metadata": {
        "id": "nyil5wWZLRj_",
        "colab": {
          "base_uri": "https://localhost:8080/"
        },
        "outputId": "511ab986-eb36-4c9e-9378-2254d1b6588f"
      },
      "execution_count": 14,
      "outputs": [
        {
          "output_type": "stream",
          "name": "stdout",
          "text": [
            "ROUGE Score: Completed Iteration 1/330\n",
            "ROUGE Score: Completed Iteration 26/330\n",
            "ROUGE Score: Completed Iteration 51/330\n",
            "ROUGE Score: Completed Iteration 76/330\n",
            "ROUGE Score: Completed Iteration 101/330\n",
            "ROUGE Score: Completed Iteration 126/330\n",
            "ROUGE Score: Completed Iteration 151/330\n",
            "ROUGE Score: Completed Iteration 176/330\n",
            "ROUGE Score: Completed Iteration 201/330\n",
            "ROUGE Score: Completed Iteration 226/330\n",
            "ROUGE Score: Completed Iteration 251/330\n",
            "ROUGE Score: Completed Iteration 276/330\n",
            "ROUGE Score: Completed Iteration 301/330\n",
            "ROUGE Score: Completed Iteration 326/330\n",
            "Average ROUGE Scores {'rougeL': 0.2957219944277001, 'rouge2': 0.13252754712395426, 'rouge1': 0.325192318427971}\n"
          ]
        }
      ]
    },
    {
      "cell_type": "markdown",
      "source": [
        "# Inference\n",
        "\n",
        "Predict a sequence given a sequence as input"
      ],
      "metadata": {
        "id": "0a_5MSfoqfpn"
      }
    },
    {
      "cell_type": "code",
      "source": [
        "src, tgt = next(iter(test_loader))\n",
        "print(f\"Input: {bpe.decode(src[0].tolist())}\")\n",
        "print(f\"Expected Output: {bpe.decode(tgt[0].tolist())}\")\n",
        "\n",
        "src = src.to(DEVICE)\n",
        "tgt = tgt.to(DEVICE)\n",
        "model.eval()\n",
        "outputs = model.predict(src[0,].unsqueeze(0))\n",
        "print(f\"Actual Output: {bpe.decode(outputs.tolist())}\")"
      ],
      "metadata": {
        "id": "f0zA3g7Rq36D",
        "colab": {
          "base_uri": "https://localhost:8080/"
        },
        "outputId": "157ea0fe-7a65-4dad-d289-ca801e1da5bb"
      },
      "execution_count": 31,
      "outputs": [
        {
          "output_type": "stream",
          "name": "stdout",
          "text": [
            "Input: ['<BOS> on solving a convex-concave bilinear saddle-point problem (spp), there have been many works studying the complexity results of first-order methods. these results are all about upper complexity bounds, which can determine at most how many efforts would guarantee a solution of desired accuracy. in this paper, we pursue the opposite direction by deriving lower complexity bounds of first-order methods on large-scale spps. our results apply to the methods whose iterates are in the linear span of past first-order information, as well as more general methods that produce their iterates in an arbitrary manner based on first-order information. we first work on the affinely constrained smooth convex optimization that is a special case of spp. different from gradient method on unconstrained problems, we show that first-order methods on affinely constrained problems generally cannot be accelerated from the known convergence rate $o(1/t)$ to $o(1/t^2)$, and in addition, $o(1/t)$ is optimal for convex problems. moreover, we prove that for strongly convex problems, $o(1/t^2)$ is the best possible convergence rate, while it is known that gradient methods can have linear convergence on unconstrained problems. then we extend these results to general spps. it turns out that our lower complexity bounds match with several established upper complexity bounds in the literature, and thus they are tight and indicate the optimality of several existing first-order methods.<EOS><PAD><PAD><PAD><PAD><PAD><PAD><PAD><PAD><PAD><PAD><PAD><PAD><PAD><PAD><PAD><PAD><PAD><PAD><PAD><PAD><PAD><PAD><PAD><PAD><PAD><PAD><PAD><PAD><PAD><PAD><PAD><PAD><PAD><PAD><PAD><PAD><PAD><PAD><PAD><PAD><PAD><PAD><PAD><PAD><PAD><PAD><PAD><PAD><PAD><PAD><PAD><PAD><PAD><PAD><PAD><PAD><PAD><PAD><PAD><PAD><PAD><PAD>']\n",
            "Expected Output: ['<BOS> lower complexity bounds of first-order methods for convex-concave bilinear saddle-point problems<EOS><PAD><PAD><PAD><PAD><PAD><PAD>']\n",
            "Actual Output: ['<BOS> first-order methods for first-order bilinear optimization<EOS><PAD><PAD><PAD><PAD><PAD><PAD><PAD><PAD><PAD><PAD><PAD><PAD>']\n"
          ]
        }
      ]
    }
  ]
}